{
 "cells": [
  {
   "cell_type": "markdown",
   "id": "020e2aec",
   "metadata": {},
   "source": [
    "# 1. Jupyter Notebook 연습"
   ]
  },
  {
   "cell_type": "markdown",
   "id": "02ed84e7",
   "metadata": {},
   "source": [
    "## 1.1 파이썬 명령어 코드"
   ]
  },
  {
   "cell_type": "markdown",
   "id": "4f03bc87",
   "metadata": {},
   "source": [
    "### 1.1.1 수식 표현 연습"
   ]
  },
  {
   "cell_type": "markdown",
   "id": "2a96d06f",
   "metadata": {},
   "source": [
    "\\begin{equation}\n",
    "e^x=\\sum_{i=0}^\\infty \\frac{1}{i!}x^i\n",
    "\\end{equation}"
   ]
  },
  {
   "cell_type": "markdown",
   "id": "ee7f3468",
   "metadata": {},
   "source": [
    "$$\\int x^2 \\, dx = \\frac{x^3}3 +C$$"
   ]
  },
  {
   "cell_type": "markdown",
   "id": "b1ecba26",
   "metadata": {},
   "source": [
    "양 옆에 $ 하나씩 붙이면 앞에 정렬, $$ 붙이면 가운데 정렬"
   ]
  },
  {
   "cell_type": "code",
   "execution_count": 1,
   "id": "6c4587ef",
   "metadata": {},
   "outputs": [
    {
     "name": "stdout",
     "output_type": "stream",
     "text": [
      "Hello\n"
     ]
    }
   ],
   "source": [
    "print(\"Hello\")"
   ]
  },
  {
   "cell_type": "code",
   "execution_count": 3,
   "id": "d2b0d5f9",
   "metadata": {},
   "outputs": [],
   "source": [
    "from myssl import *"
   ]
  },
  {
   "cell_type": "code",
   "execution_count": 7,
   "id": "3e1daa6e",
   "metadata": {},
   "outputs": [
    {
     "data": {
      "text/plain": [
       "2222"
      ]
     },
     "execution_count": 7,
     "metadata": {},
     "output_type": "execute_result"
    }
   ],
   "source": [
    "i_list = LinkedList()\n",
    "i_list.append(111)\n",
    "i_list.append(2222)\n",
    "i_list.append(777)\n",
    "i_list.first()\n",
    "i_list.next()"
   ]
  },
  {
   "cell_type": "code",
   "execution_count": 9,
   "id": "4dc11665",
   "metadata": {},
   "outputs": [],
   "source": [
    "i_list.next()"
   ]
  },
  {
   "cell_type": "code",
   "execution_count": 11,
   "id": "a01d479f",
   "metadata": {},
   "outputs": [],
   "source": [
    "i_list.next()"
   ]
  },
  {
   "cell_type": "markdown",
   "id": "734fa9b6",
   "metadata": {},
   "source": [
    "## 1.1.2 Linked List 테스트 결과 출력"
   ]
  },
  {
   "cell_type": "code",
   "execution_count": null,
   "id": "d43bdeba",
   "metadata": {},
   "outputs": [],
   "source": []
  }
 ],
 "metadata": {
  "kernelspec": {
   "display_name": "Python 3 (ipykernel)",
   "language": "python",
   "name": "python3"
  },
  "language_info": {
   "codemirror_mode": {
    "name": "ipython",
    "version": 3
   },
   "file_extension": ".py",
   "mimetype": "text/x-python",
   "name": "python",
   "nbconvert_exporter": "python",
   "pygments_lexer": "ipython3",
   "version": "3.10.9"
  }
 },
 "nbformat": 4,
 "nbformat_minor": 5
}
