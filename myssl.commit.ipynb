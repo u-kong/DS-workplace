{
 "cells": [
  {
   "cell_type": "markdown",
   "id": "0f70fc16",
   "metadata": {
    "hide_input": true,
    "toc": true
   },
   "source": [
    "<h1>Table of Contents<span class=\"tocSkip\"></span></h1>\n",
    "<div class=\"toc\"><ul class=\"toc-item\"><li><span><a href=\"#How-to-implement-'traverse_all'-func\" data-toc-modified-id=\"How-to-implement-'traverse_all'-func-1\"><span class=\"toc-item-num\">1&nbsp;&nbsp;</span>How to implement 'traverse_all' func</a></span></li><li><span><a href=\"#How-to-implement-'insert_at'-func\" data-toc-modified-id=\"How-to-implement-'insert_at'-func-2\"><span class=\"toc-item-num\">2&nbsp;&nbsp;</span>How to implement 'insert_at' func</a></span></li><li><span><a href=\"#How-to-implement-'remove'-func\" data-toc-modified-id=\"How-to-implement-'remove'-func-3\"><span class=\"toc-item-num\">3&nbsp;&nbsp;</span>How to implement 'remove' func</a></span></li><li><span><a href=\"#code\" data-toc-modified-id=\"code-4\"><span class=\"toc-item-num\">4&nbsp;&nbsp;</span>code</a></span></li><li><span><a href=\"#고찰-및-느낀점\" data-toc-modified-id=\"고찰-및-느낀점-5\"><span class=\"toc-item-num\">5&nbsp;&nbsp;</span>고찰 및 느낀점</a></span></li><li><span><a href=\"#nbextensions-사용\" data-toc-modified-id=\"nbextensions-사용-6\"><span class=\"toc-item-num\">6&nbsp;&nbsp;</span>nbextensions 사용</a></span></li></ul></div>"
   ]
  },
  {
   "cell_type": "markdown",
   "id": "1a5f1197",
   "metadata": {},
   "source": [
    "## How to implement 'traverse_all' func"
   ]
  },
  {
   "cell_type": "markdown",
   "id": "af388bc5",
   "metadata": {},
   "source": [
    "우선, 조건문으로 stack에 원소가 없을 때, None이 반환되게 하였다."
   ]
  },
  {
   "cell_type": "markdown",
   "id": "61a237e1",
   "metadata": {},
   "source": [
    "그리고 temp라는 head를 가리키는 변수를 설정하여 반복문을 돌려 출력하였다."
   ]
  },
  {
   "cell_type": "markdown",
   "id": "bf994345",
   "metadata": {},
   "source": [
    "head와 마지막 NULL을 출력해야 하므로 0부터 self.num_of_data + 2까지 for문이 반복되게 하였다."
   ]
  },
  {
   "cell_type": "markdown",
   "id": "554bb156",
   "metadata": {},
   "source": [
    "'()' 또한 출력되게 하기 위해 for문을 이용하였고, for문이 한 번 돌 때마다 ->이 출력되게 하였다."
   ]
  },
  {
   "cell_type": "markdown",
   "id": "c02efde3",
   "metadata": {},
   "source": [
    "## How to implement 'insert_at' func"
   ]
  },
  {
   "cell_type": "markdown",
   "id": "3dbc9180",
   "metadata": {},
   "source": [
    "우선, 삽입하려고 하는 position이 0보다 같거나 작으면 \"position 입력이 잘못되었습니다.\"를 출력한다."
   ]
  },
  {
   "cell_type": "markdown",
   "id": "2956ff24",
   "metadata": {},
   "source": [
    "position이 stack의 data 갯수보다 많으면, 위의 append func이 동작한다."
   ]
  },
  {
   "cell_type": "markdown",
   "id": "cebf2cb8",
   "metadata": {},
   "source": [
    "위의 두 경우가 아니라면, head를 가리키는 cur 변수를 설정하고, 반복문을 이용하여(position-1)번째 자리로 이동시킨다."
   ]
  },
  {
   "cell_type": "markdown",
   "id": "321408d8",
   "metadata": {},
   "source": [
    "삽입하고자 하는 노드인 newNode의 next를 현재 cur의 next로 설정하고 cur의 next는 newNode를 가리키게끔 수정한다."
   ]
  },
  {
   "cell_type": "markdown",
   "id": "e86dfdb2",
   "metadata": {},
   "source": [
    "## How to implement 'remove' func"
   ]
  },
  {
   "cell_type": "markdown",
   "id": "552aa85f",
   "metadata": {},
   "source": [
    "cur을 stack의 first를 가리키게끔 설정한다."
   ]
  },
  {
   "cell_type": "markdown",
   "id": "45c022e8",
   "metadata": {},
   "source": [
    "삭제하고 싶은 원소가 없을 때를 확인하기 위해 변수 key_num을 설정한다."
   ]
  },
  {
   "cell_type": "markdown",
   "id": "5ba5a230",
   "metadata": {},
   "source": [
    "반복문을 돌려 만일 cur의 원소와 key의 숫자가 같다면 delete func을 이용하여 삭제한다."
   ]
  },
  {
   "cell_type": "markdown",
   "id": "6f6ef910",
   "metadata": {},
   "source": [
    "삭제하게 되면 key_num을 하나씩 카운트 해주고, cur을 cur.next로 넘겨준다."
   ]
  },
  {
   "cell_type": "markdown",
   "id": "bb01b5ca",
   "metadata": {},
   "source": [
    "만일 key_num이 0이라면 어떠한 원소도 삭제되지 않은 것이므로, 원하는 출력문을 출력해준다."
   ]
  },
  {
   "cell_type": "markdown",
   "id": "600cce15",
   "metadata": {},
   "source": [
    "## code"
   ]
  },
  {
   "cell_type": "code",
   "execution_count": 2,
   "id": "71a49592",
   "metadata": {
    "ExecuteTime": {
     "end_time": "2023-04-13T10:26:18.003027Z",
     "start_time": "2023-04-13T10:26:17.939606Z"
    },
    "code_folding": []
   },
   "outputs": [
    {
     "name": "stdout",
     "output_type": "stream",
     "text": [
      "현재 l_list의 상태: head -> (3) -> (4) -> (5) -> (6) -> (3) -> (7) -> (8) -> NULL \n",
      "현재 l_list의 첫번째 원소: 3\n",
      "현재 l_list의 그 다음 원소: 4\n",
      "현재 l_list의 current 원소를 삭제합니다. 삭제하는 원소: 4\n",
      "현재 l_list의 상태: head -> (3) -> (5) -> (6) -> (3) -> (7) -> (8) -> NULL \n",
      "position 입력이 잘못되었습니다.\n",
      "현재 l_list의 상태: head -> (100) -> (3) -> (5) -> (6) -> (3) -> (7) -> (8) -> (1000) -> NULL \n",
      "2번째 원소(3)를 삭제합니다.\n",
      "5번째 원소(3)를 삭제합니다.\n",
      "해당하는 원소(10)(이)가 없습니다.\n",
      "현재 l_list의 상태: head -> (100) -> (5) -> (6) -> (7) -> (8) -> (1000) -> NULL \n"
     ]
    }
   ],
   "source": [
    "# Node 클래스 정의\n",
    "class Node:\n",
    "\tdef __init__(self, data):\n",
    "\t\tself.data = data\n",
    "\t\tself.next = None\n",
    "\n",
    "\n",
    "# LinkedList 클래스 정의\n",
    "class LinkedList:\n",
    "\n",
    "\t# 초기화 메소드\n",
    "\tdef __init__(self):\n",
    "\t\tdummy = Node(\"dummy\")\n",
    "\t\tself.head = dummy\n",
    "\t\tself.tail = dummy\n",
    "\n",
    "\t\tself.current = None\n",
    "\t\tself.before = None\n",
    "\t\tself.num_of_data = 0\n",
    "\n",
    "\t# append 메소드 (insert - 맨 뒤에 노드 추가, tail과 node의 next, 데이터 개수 변경)\n",
    "\tdef append(self, data):\n",
    "\t\tnew_node = Node(data)\n",
    "\t\tself.tail.next = new_node #이렇게 하면 dummy node가 남지 않을듯??\n",
    "\t\tself.tail = new_node\n",
    "\t\tself.num_of_data += 1\n",
    "\n",
    "\t# delete 메소드 (delete - current 노드 삭제, 인접 노드의 current, next 변경, 데이터 개수 변경)\n",
    "\tdef delete(self):\n",
    "\t\tpop_data = self.current.data\n",
    "\t\tif self.current is self.tail:\n",
    "\t\t\tself.tail = self.before\n",
    "\t\t# 중요 : current가 next가 아닌 before로 변경된다.\n",
    "\t\tself.before.next = self.current.next\n",
    "\t\tself.current = self.before \n",
    "\t\tself.num_of_data -= 1\n",
    "\t\treturn pop_data\n",
    "\n",
    "\t# first 메소드 (search1 - 맨 앞의 노드 검색, before, current 변경)\n",
    "\tdef first(self):\n",
    "\t\t# 데이터가 없는 경우 첫번째 노드도 없기 때문에 None 리턴\n",
    "\t\tif self.num_of_data == 0: \n",
    "\t\t\treturn None\n",
    "\t\tself.before = self.head\n",
    "\t\tself.current = self.head.next\n",
    "\t\treturn self.current.data\n",
    "\n",
    "\t# next 메소드 (search2 - current 노드의 다음 노드 검색, 이전에 first 메소드가 한번은 실행되어야 함)\n",
    "\tdef next(self):\n",
    "\t\tif self.current.next == None:\n",
    "\t\t\treturn None\n",
    "\n",
    "\t\tself.before = self.current\n",
    "\t\tself.current = self.current.next\n",
    "\n",
    "\t\treturn self.current.data\n",
    "\n",
    "\t# size 메소드\n",
    "\tdef size(self):\n",
    "\t\treturn self.num_of_data \n",
    "\n",
    "\tdef traverse_all(self):\n",
    "\t\tif self.num_of_data == 0:\n",
    "\t\t\treturn None\n",
    "\t\ttemp = self.head\n",
    "\t\tfor i in range(self.num_of_data+2):\n",
    "\t\t\tif temp is self.head:\n",
    "\t\t\t\tprint(\"head\", end = \" \")\n",
    "\t\t\telif temp is None:\n",
    "\t\t\t\tprint(\"NULL\", end = \" \")\n",
    "\t\t\t\tbreak\n",
    "\t\t\telse:\n",
    "\t\t\t\tprint(\"({0})\".format(temp.data), end = \" \")\n",
    "\t\t\ttemp = temp.next\n",
    "\t\t\tprint(\"->\", end = \" \")\n",
    "\t\tprint()\n",
    "\t\n",
    "\tdef insert_at(self, position, new_data):\n",
    "\t\tif position <= 0:\n",
    "\t\t\tprint(\"position 입력이 잘못되었습니다.\")\n",
    "\t\t\treturn None\n",
    "\t\telif position > self.num_of_data:\n",
    "\t\t\tself.append(new_data)\n",
    "\t\telse:\n",
    "\t\t\tcur = self.head\n",
    "\t\t\tnewNode = Node(new_data)\n",
    "\t\t\tfor i in range(position-1):\n",
    "\t\t\t\tcur = cur.next #여기 위치에다가 삽입하면 됨\n",
    "\t\t\tnewNode.next = cur.next\n",
    "\t\t\tcur.next = newNode\n",
    "\t\t\tself.num_of_data += 1\n",
    "\n",
    "\t'''def current_f(self): #delete 확인용\n",
    "\t\t\treturn self.current.data '''\n",
    "\n",
    "\tdef remove(self, key):\n",
    "\t\tcur = self.first()\n",
    "\t\tkey_num = 0;\n",
    "\t\tfor i in range(1, self.num_of_data):\n",
    "\t\t\tif cur == key:\n",
    "\t\t\t\tkey_num += 1\n",
    "\t\t\t\tprint(\"{0}번째 원소({1})를 삭제합니다.\".format(i, key))\n",
    "\t\t\t\tself.delete()\n",
    "\t\t\tcur = self.next()\n",
    "\t\tif key_num == 0:\n",
    "\t\t\tprint(\"해당하는 원소({0})(이)가 없습니다.\".format(key))\n",
    "\t\n",
    "#LInkedList 생성\n",
    "l_list = LinkedList()\n",
    "#원소들 append 하기\n",
    "l_list.append(3)\n",
    "l_list.append(4)\n",
    "l_list.append(5)\n",
    "l_list.append(6)\n",
    "l_list.append(3)\n",
    "l_list.append(7)\n",
    "l_list.append(8)\n",
    "#########traverse_all 함수\n",
    "print(\"현재 l_list의 상태:\", end = \" \")\n",
    "l_list.traverse_all()\n",
    "\n",
    "#########first func\n",
    "print(\"현재 l_list의 첫번째 원소: {0}\".format(l_list.first()))\n",
    "\n",
    "#########next func\n",
    "print(\"현재 l_list의 그 다음 원소: {0}\".format(l_list.next()))\n",
    "\n",
    "########원소 delete\n",
    "print(\"현재 l_list의 current 원소를 삭제합니다. 삭제하는 원소: {0}\".format(l_list.delete()))\n",
    "#l_list 상태 재확인\n",
    "print(\"현재 l_list의 상태:\", end = \" \")\n",
    "l_list.traverse_all()\n",
    "\n",
    "########insert_at func\n",
    "l_list.insert_at(1, 100)\n",
    "l_list.insert_at(0, 1) #잘못된 position을 입력했을 때\n",
    "l_list.insert_at(100, 1000) # 오버된 position을 입력했을 때\n",
    "#l_list 상태 재확인\n",
    "print(\"현재 l_list의 상태:\", end = \" \")\n",
    "l_list.traverse_all()\n",
    "\n",
    "#########remove func\n",
    "l_list.remove(3)\n",
    "l_list.remove(10)\n",
    "#l_list 상태 재확인\n",
    "print(\"현재 l_list의 상태:\", end = \" \")\n",
    "l_list.traverse_all()"
   ]
  },
  {
   "cell_type": "markdown",
   "id": "507daaf4",
   "metadata": {},
   "source": [
    "## 고찰 및 느낀점"
   ]
  },
  {
   "cell_type": "markdown",
   "id": "1852e468",
   "metadata": {},
   "source": [
    "처음, delete func이 제대로 작동하지 않아 고민을 하였다. 알고보니 함수 내에 들여 쓰기를 제대로 하지 않은 것이 화근이었다. 한동안 c언어를 하다가 오랜만에 python을 해서 생긴 착오였다."
   ]
  },
  {
   "cell_type": "markdown",
   "id": "f9a2bd9f",
   "metadata": {},
   "source": [
    "traverse_all 함수의 반복문에서 self.num_of_data + 2로 설정한 것이 고민된다. 더 가시적으로 나타낼 수 있는 방법이 있을거 같은데 아직 잘 모르겠다."
   ]
  },
  {
   "cell_type": "markdown",
   "id": "63e99c64",
   "metadata": {},
   "source": [
    "처음 stack의 내용에 대해 배우면서 head와 tail은 stack의 하나의 node가 아닌 pointer 개념이라는 것을 알게되었다."
   ]
  },
  {
   "cell_type": "markdown",
   "id": "b1a7cc9b",
   "metadata": {},
   "source": [
    "배운 많은 자료형들이 있는데 아직 어떨 때에 어떠한 자료형을 쓰는지 잘 모르겠다. 기회가 된다면 어떤 자료형이 가장 효율적일지에 대한 문제들을 풀어보고 싶다."
   ]
  },
  {
   "cell_type": "markdown",
   "id": "f7999466",
   "metadata": {},
   "source": [
    "## nbextensions 사용"
   ]
  },
  {
   "cell_type": "markdown",
   "id": "8c52afa7",
   "metadata": {},
   "source": [
    "1. Table of Contents. -> 왼쪽에 목차만 정리되어 나타나는데 위에 toggle header와 toggle tools가 가려서 잘 보이지 않는다."
   ]
  },
  {
   "cell_type": "markdown",
   "id": "29f2c797",
   "metadata": {},
   "source": [
    "2. Variable Inspector -> 변수의 이름, 자료형, 크기 등이 나타나는데 왜 나타나지 않는건지 의문이다..."
   ]
  },
  {
   "cell_type": "markdown",
   "id": "d0198498",
   "metadata": {},
   "source": [
    "3. Execute Time -> 코드가 돌아가는 시간이 표시된다."
   ]
  },
  {
   "cell_type": "markdown",
   "id": "6d796278",
   "metadata": {},
   "source": [
    "4. Collapsible Headings -> toggle 처럼 ##로 표시된 head들과 그 내용들을 접을 수 있다."
   ]
  },
  {
   "cell_type": "markdown",
   "id": "1765a85c",
   "metadata": {},
   "source": [
    "5. Codefolding -> code 왼쪽 몇번째 줄인지 표시되는 부분에 화살표가 생긴다. 4번 기능과 같은 방식으로 code를 함수별로 접거나 펼쳐 간단하게 보이도록 할 수 있다."
   ]
  },
  {
   "cell_type": "markdown",
   "id": "80c256cb",
   "metadata": {},
   "source": [
    "6. Hinterland -> (가장 잘 이용한 기능)code를 작성 할 때, 코드를 다 작성하지 않아도 변수 이름, 함수 이름, library 이름 등을 아래 표기해줘서 원하는 것으로 자동 완성 시킬 수 있다. ex) self.num_까지만 쳐도 self.num_of_data가 아래에 떠서 엔터를 칠 수 있다."
   ]
  }
 ],
 "metadata": {
  "kernelspec": {
   "display_name": "Python 3 (ipykernel)",
   "language": "python",
   "name": "python3"
  },
  "language_info": {
   "codemirror_mode": {
    "name": "ipython",
    "version": 3
   },
   "file_extension": ".py",
   "mimetype": "text/x-python",
   "name": "python",
   "nbconvert_exporter": "python",
   "pygments_lexer": "ipython3",
   "version": "3.10.9"
  },
  "toc": {
   "base_numbering": 1,
   "nav_menu": {},
   "number_sections": true,
   "sideBar": true,
   "skip_h1_title": true,
   "title_cell": "Table of Contents",
   "title_sidebar": "Contents",
   "toc_cell": true,
   "toc_position": {},
   "toc_section_display": true,
   "toc_window_display": true
  },
  "varInspector": {
   "cols": {
    "lenName": 16,
    "lenType": 16,
    "lenVar": 40
   },
   "kernels_config": {
    "python": {
     "delete_cmd_postfix": "",
     "delete_cmd_prefix": "del ",
     "library": "var_list.py",
     "varRefreshCmd": "print(var_dic_list())"
    },
    "r": {
     "delete_cmd_postfix": ") ",
     "delete_cmd_prefix": "rm(",
     "library": "var_list.r",
     "varRefreshCmd": "cat(var_dic_list()) "
    }
   },
   "position": {
    "height": "383.85px",
    "left": "1153.8px",
    "right": "20px",
    "top": "120px",
    "width": "345.4px"
   },
   "types_to_exclude": [
    "module",
    "function",
    "builtin_function_or_method",
    "instance",
    "_Feature"
   ],
   "window_display": true
  }
 },
 "nbformat": 4,
 "nbformat_minor": 5
}
